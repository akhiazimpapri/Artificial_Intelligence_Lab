{
 "cells": [
  {
   "cell_type": "code",
   "execution_count": 19,
   "id": "aee329d5-1120-4b4f-a615-9533a7ac019e",
   "metadata": {},
   "outputs": [],
   "source": [
    "######## .keras file ta offline a hole manualy save korte hobe\n",
    "\n",
    "# #classification problem\n",
    "\n",
    "# inputs = Input((28,28))#input layer\n",
    "\n",
    "# outputs = Dense(number_of_classes, activation = 'softmax')(x) #output layer\n",
    "\n",
    "# model.compile(loss = 'catagorical crossentropy') #cost function\n"
   ]
  },
  {
   "cell_type": "code",
   "execution_count": null,
   "id": "885f4fdd-0f81-4571-afc1-559e48c3d6be",
   "metadata": {},
   "outputs": [],
   "source": [
    "# MNIST stands for Modified National Institute of Standards and Technology dataset.\n",
    "# It is one of the most famous datasets in machine learning and deep learning for image classification.\n",
    "\n",
    "# Key Points:\n",
    "\n",
    "# What it contains:\n",
    "# Handwritten digits 0–9 (10 classes).\n",
    "\n",
    "# Number of samples:\n",
    "# 60,000 training images\n",
    "# 10,000 testing images\n",
    "\n",
    "# Image size:\n",
    "# Grayscale images\n",
    "# Shape: 28 × 28 pixels\n",
    "# Pixel values range from 0 (black) to 255 (white)\n",
    "\n",
    "# Why it’s popular:\n",
    "# Small and easy to use\n",
    "# Standard benchmark for testing classification algorithms\n",
    "# Often the first dataset people use when learning neural networks"
   ]
  },
  {
   "cell_type": "code",
   "execution_count": 43,
   "id": "20bd7587-5023-4e19-b91a-29da4862a6c4",
   "metadata": {},
   "outputs": [],
   "source": [
    "import tensorflow as tf\n",
    "from tensorflow.keras.datasets import mnist\n",
    "from tensorflow.keras.models import Sequential\n",
    "from tensorflow.keras.layers import Dense, Flatten\n",
    "from tensorflow.keras.utils import to_categorical\n",
    "from tensorflow.keras.layers import Input, Dense, Flatten\n",
    "from tensorflow.keras.models import Model"
   ]
  },
  {
   "cell_type": "code",
   "execution_count": null,
   "id": "7f723bbe-6026-4daa-936f-719ff130a8ba",
   "metadata": {},
   "outputs": [],
   "source": [
    "\n",
    "def main():\n",
    "    number_of_classes = 10\n",
    "    \n",
    "    #---load data\n",
    "    (x_train, y_train), (x_test, y_test) = mnist.load_data()\n",
    "    \n",
    "    # Normalize pixel values (0-255 → 0-1)\n",
    "    x_train = x_train.astype('float32') / 255.0\n",
    "    x_test  = x_test.astype('float32') / 255.0\n",
    "    \n",
    "    # One-hot encode labels\n",
    "    y_train = to_categorical(y_train, number_of_classes)\n",
    "    y_test  = to_categorical(y_test, number_of_classes)\n",
    "    \n",
    "    #---cross-check\n",
    "    print(\"Training data shape:\", x_train.shape)\n",
    "    print(\"Test data shape:\", x_test.shape)\n",
    "\n",
    "    #---Build the model\n",
    "    inputs = Input((28,28))  # input layer\n",
    "    x = Flatten()(inputs)    # flatten 28x28 → 784\n",
    "    x = Dense(512, activation='relu')(x)\n",
    "    x = Dense(4, activation='relu')(x)\n",
    "    x = Dense(8, activation='relu')(x)\n",
    "    x = Dense(16, activation='relu')(x)\n",
    "    x = Dense(8, activation='relu')(x)\n",
    "    x = Dense(4, activation='relu')(x)\n",
    "    outputs = Dense(number_of_classes, activation='softmax')(x)\n",
    "\n",
    "    model = Model(inputs=inputs, outputs=outputs)\n",
    "\n",
    "    # Compile the model\n",
    "    model.compile(\n",
    "        optimizer='adam',\n",
    "        loss='categorical_crossentropy',\n",
    "        metrics=['accuracy']\n",
    "    )\n",
    "\n",
    "    model.summary()\n",
    "\n",
    "    #---Train with 10% validation split\n",
    "    history = model.fit(\n",
    "        x_train, y_train,\n",
    "        epochs=50,\n",
    "        batch_size=32,\n",
    "        validation_split=0.1,\n",
    "        verbose=1\n",
    "    )\n",
    "\n",
    "if __name__ == '__main__':\n",
    "    main()"
   ]
  },
  {
   "cell_type": "code",
   "execution_count": null,
   "id": "8143d095-8fd0-4272-a666-538c19ba3fbf",
   "metadata": {},
   "outputs": [],
   "source": []
  }
 ],
 "metadata": {
  "kernelspec": {
   "display_name": "Python 3 (ipykernel)",
   "language": "python",
   "name": "python3"
  },
  "language_info": {
   "codemirror_mode": {
    "name": "ipython",
    "version": 3
   },
   "file_extension": ".py",
   "mimetype": "text/x-python",
   "name": "python",
   "nbconvert_exporter": "python",
   "pygments_lexer": "ipython3",
   "version": "3.9.6"
  }
 },
 "nbformat": 4,
 "nbformat_minor": 5
}
