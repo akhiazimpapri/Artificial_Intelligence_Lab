{
 "cells": [
  {
   "cell_type": "code",
   "execution_count": 13,
   "id": "a97b662c-cbc0-4164-9156-5b880151ba6a",
   "metadata": {},
   "outputs": [],
   "source": [
    "#-------Import libraries\n",
    "import tensorflow as tf\n",
    "from tensorflow.keras.datasets import mnist\n",
    "from tensorflow.keras.utils import to_categorical\n",
    "from tensorflow.keras.models import Sequential\n",
    "from tensorflow.keras.layers import Conv2D, MaxPooling2D, Flatten, Dense, Dropout\n",
    "from tensorflow.keras.layers import Input\n",
    "from tensorflow.keras.models import Model\n",
    "import matplotlib.pyplot as plt"
   ]
  },
  {
   "cell_type": "code",
   "execution_count": 14,
   "id": "627d7f76-dfe4-45b6-888b-7b168ee68b9a",
   "metadata": {},
   "outputs": [],
   "source": [
    "num_classes = 10\n",
    "img_size = (28, 28, 1)"
   ]
  },
  {
   "cell_type": "code",
   "execution_count": 15,
   "id": "3d438e2a-98c3-46f3-90fa-ae241f4e356e",
   "metadata": {},
   "outputs": [],
   "source": [
    "#-------Load data\n",
    "(x_train, y_train), (x_test, y_test) = mnist.load_data()\n",
    "\n",
    "#-------Normalize pixel values\n",
    "x_train = x_train.astype('float32') / 255.0\n",
    "x_test = x_test.astype('float32') / 255.0\n",
    "\n",
    "#-------Reshape to add channel dimension\n",
    "x_train = x_train.reshape(-1, 28, 28, 1)\n",
    "x_test = x_test.reshape(-1, 28, 28, 1)\n",
    "\n",
    "#-------One-hot encode labels\n",
    "y_train = to_categorical(y_train, num_classes)\n",
    "y_test = to_categorical(y_test, num_classes)\n"
   ]
  },
  {
   "cell_type": "code",
   "execution_count": 16,
   "id": "93ed4e72-acf3-42bf-9fb7-6faf685007f3",
   "metadata": {},
   "outputs": [],
   "source": [
    "#-------Define the CNN model\n",
    "inputs = Input(img_size)\n",
    "x = Conv2D(filters=8, kernel_size=(3,3), activation='relu')(inputs)\n",
    "x = Conv2D(filters=16, kernel_size=(3,3), activation='relu')(x)\n",
    "x = Flatten()(x)\n",
    "x = Dense(64, activation='relu')(x)\n",
    "x = Dense(16, activation='relu')(x)\n",
    "outputs = Dense(num_classes, activation='softmax')(x)\n",
    "\n",
    "model = Model(inputs, outputs)"
   ]
  },
  {
   "cell_type": "code",
   "execution_count": 17,
   "id": "f880d46c-2d55-4218-8a76-47b737379a7b",
   "metadata": {},
   "outputs": [
    {
     "data": {
      "text/html": [
       "<pre style=\"white-space:pre;overflow-x:auto;line-height:normal;font-family:Menlo,'DejaVu Sans Mono',consolas,'Courier New',monospace\"><span style=\"font-weight: bold\">Model: \"functional\"</span>\n",
       "</pre>\n"
      ],
      "text/plain": [
       "\u001b[1mModel: \"functional\"\u001b[0m\n"
      ]
     },
     "metadata": {},
     "output_type": "display_data"
    },
    {
     "data": {
      "text/html": [
       "<pre style=\"white-space:pre;overflow-x:auto;line-height:normal;font-family:Menlo,'DejaVu Sans Mono',consolas,'Courier New',monospace\">┏━━━━━━━━━━━━━━━━━━━━━━━━━━━━━┳━━━━━━━━━━━━━━━━━━━━━━━┳━━━━━━━━━━━━┳━━━━━━━┓\n",
       "┃<span style=\"font-weight: bold\"> Layer (type)                </span>┃<span style=\"font-weight: bold\"> Output Shape          </span>┃<span style=\"font-weight: bold\">    Param # </span>┃<span style=\"font-weight: bold\"> Trai… </span>┃\n",
       "┡━━━━━━━━━━━━━━━━━━━━━━━━━━━━━╇━━━━━━━━━━━━━━━━━━━━━━━╇━━━━━━━━━━━━╇━━━━━━━┩\n",
       "│ input_layer (<span style=\"color: #0087ff; text-decoration-color: #0087ff\">InputLayer</span>)    │ (<span style=\"color: #00d7ff; text-decoration-color: #00d7ff\">None</span>, <span style=\"color: #00af00; text-decoration-color: #00af00\">28</span>, <span style=\"color: #00af00; text-decoration-color: #00af00\">28</span>, <span style=\"color: #00af00; text-decoration-color: #00af00\">1</span>)     │          <span style=\"color: #00af00; text-decoration-color: #00af00\">0</span> │   <span style=\"font-weight: bold\">-</span>   │\n",
       "├─────────────────────────────┼───────────────────────┼────────────┼───────┤\n",
       "│ conv2d (<span style=\"color: #0087ff; text-decoration-color: #0087ff\">Conv2D</span>)             │ (<span style=\"color: #00d7ff; text-decoration-color: #00d7ff\">None</span>, <span style=\"color: #00af00; text-decoration-color: #00af00\">26</span>, <span style=\"color: #00af00; text-decoration-color: #00af00\">26</span>, <span style=\"color: #00af00; text-decoration-color: #00af00\">8</span>)     │         <span style=\"color: #00af00; text-decoration-color: #00af00\">80</span> │   <span style=\"color: #00af00; text-decoration-color: #00af00; font-weight: bold\">Y</span>   │\n",
       "├─────────────────────────────┼───────────────────────┼────────────┼───────┤\n",
       "│ conv2d_1 (<span style=\"color: #0087ff; text-decoration-color: #0087ff\">Conv2D</span>)           │ (<span style=\"color: #00d7ff; text-decoration-color: #00d7ff\">None</span>, <span style=\"color: #00af00; text-decoration-color: #00af00\">24</span>, <span style=\"color: #00af00; text-decoration-color: #00af00\">24</span>, <span style=\"color: #00af00; text-decoration-color: #00af00\">16</span>)    │      <span style=\"color: #00af00; text-decoration-color: #00af00\">1,168</span> │   <span style=\"color: #00af00; text-decoration-color: #00af00; font-weight: bold\">Y</span>   │\n",
       "├─────────────────────────────┼───────────────────────┼────────────┼───────┤\n",
       "│ flatten (<span style=\"color: #0087ff; text-decoration-color: #0087ff\">Flatten</span>)           │ (<span style=\"color: #00d7ff; text-decoration-color: #00d7ff\">None</span>, <span style=\"color: #00af00; text-decoration-color: #00af00\">9216</span>)          │          <span style=\"color: #00af00; text-decoration-color: #00af00\">0</span> │   <span style=\"font-weight: bold\">-</span>   │\n",
       "├─────────────────────────────┼───────────────────────┼────────────┼───────┤\n",
       "│ dense (<span style=\"color: #0087ff; text-decoration-color: #0087ff\">Dense</span>)               │ (<span style=\"color: #00d7ff; text-decoration-color: #00d7ff\">None</span>, <span style=\"color: #00af00; text-decoration-color: #00af00\">64</span>)            │    <span style=\"color: #00af00; text-decoration-color: #00af00\">589,888</span> │   <span style=\"color: #00af00; text-decoration-color: #00af00; font-weight: bold\">Y</span>   │\n",
       "├─────────────────────────────┼───────────────────────┼────────────┼───────┤\n",
       "│ dense_1 (<span style=\"color: #0087ff; text-decoration-color: #0087ff\">Dense</span>)             │ (<span style=\"color: #00d7ff; text-decoration-color: #00d7ff\">None</span>, <span style=\"color: #00af00; text-decoration-color: #00af00\">16</span>)            │      <span style=\"color: #00af00; text-decoration-color: #00af00\">1,040</span> │   <span style=\"color: #00af00; text-decoration-color: #00af00; font-weight: bold\">Y</span>   │\n",
       "├─────────────────────────────┼───────────────────────┼────────────┼───────┤\n",
       "│ dense_2 (<span style=\"color: #0087ff; text-decoration-color: #0087ff\">Dense</span>)             │ (<span style=\"color: #00d7ff; text-decoration-color: #00d7ff\">None</span>, <span style=\"color: #00af00; text-decoration-color: #00af00\">10</span>)            │        <span style=\"color: #00af00; text-decoration-color: #00af00\">170</span> │   <span style=\"color: #00af00; text-decoration-color: #00af00; font-weight: bold\">Y</span>   │\n",
       "└─────────────────────────────┴───────────────────────┴────────────┴───────┘\n",
       "</pre>\n"
      ],
      "text/plain": [
       "┏━━━━━━━━━━━━━━━━━━━━━━━━━━━━━┳━━━━━━━━━━━━━━━━━━━━━━━┳━━━━━━━━━━━━┳━━━━━━━┓\n",
       "┃\u001b[1m \u001b[0m\u001b[1mLayer (type)               \u001b[0m\u001b[1m \u001b[0m┃\u001b[1m \u001b[0m\u001b[1mOutput Shape         \u001b[0m\u001b[1m \u001b[0m┃\u001b[1m \u001b[0m\u001b[1m   Param #\u001b[0m\u001b[1m \u001b[0m┃\u001b[1m \u001b[0m\u001b[1mTrai…\u001b[0m\u001b[1m \u001b[0m┃\n",
       "┡━━━━━━━━━━━━━━━━━━━━━━━━━━━━━╇━━━━━━━━━━━━━━━━━━━━━━━╇━━━━━━━━━━━━╇━━━━━━━┩\n",
       "│ input_layer (\u001b[38;5;33mInputLayer\u001b[0m)    │ (\u001b[38;5;45mNone\u001b[0m, \u001b[38;5;34m28\u001b[0m, \u001b[38;5;34m28\u001b[0m, \u001b[38;5;34m1\u001b[0m)     │          \u001b[38;5;34m0\u001b[0m │   \u001b[1m-\u001b[0m   │\n",
       "├─────────────────────────────┼───────────────────────┼────────────┼───────┤\n",
       "│ conv2d (\u001b[38;5;33mConv2D\u001b[0m)             │ (\u001b[38;5;45mNone\u001b[0m, \u001b[38;5;34m26\u001b[0m, \u001b[38;5;34m26\u001b[0m, \u001b[38;5;34m8\u001b[0m)     │         \u001b[38;5;34m80\u001b[0m │   \u001b[1;38;5;34mY\u001b[0m   │\n",
       "├─────────────────────────────┼───────────────────────┼────────────┼───────┤\n",
       "│ conv2d_1 (\u001b[38;5;33mConv2D\u001b[0m)           │ (\u001b[38;5;45mNone\u001b[0m, \u001b[38;5;34m24\u001b[0m, \u001b[38;5;34m24\u001b[0m, \u001b[38;5;34m16\u001b[0m)    │      \u001b[38;5;34m1,168\u001b[0m │   \u001b[1;38;5;34mY\u001b[0m   │\n",
       "├─────────────────────────────┼───────────────────────┼────────────┼───────┤\n",
       "│ flatten (\u001b[38;5;33mFlatten\u001b[0m)           │ (\u001b[38;5;45mNone\u001b[0m, \u001b[38;5;34m9216\u001b[0m)          │          \u001b[38;5;34m0\u001b[0m │   \u001b[1m-\u001b[0m   │\n",
       "├─────────────────────────────┼───────────────────────┼────────────┼───────┤\n",
       "│ dense (\u001b[38;5;33mDense\u001b[0m)               │ (\u001b[38;5;45mNone\u001b[0m, \u001b[38;5;34m64\u001b[0m)            │    \u001b[38;5;34m589,888\u001b[0m │   \u001b[1;38;5;34mY\u001b[0m   │\n",
       "├─────────────────────────────┼───────────────────────┼────────────┼───────┤\n",
       "│ dense_1 (\u001b[38;5;33mDense\u001b[0m)             │ (\u001b[38;5;45mNone\u001b[0m, \u001b[38;5;34m16\u001b[0m)            │      \u001b[38;5;34m1,040\u001b[0m │   \u001b[1;38;5;34mY\u001b[0m   │\n",
       "├─────────────────────────────┼───────────────────────┼────────────┼───────┤\n",
       "│ dense_2 (\u001b[38;5;33mDense\u001b[0m)             │ (\u001b[38;5;45mNone\u001b[0m, \u001b[38;5;34m10\u001b[0m)            │        \u001b[38;5;34m170\u001b[0m │   \u001b[1;38;5;34mY\u001b[0m   │\n",
       "└─────────────────────────────┴───────────────────────┴────────────┴───────┘\n"
      ]
     },
     "metadata": {},
     "output_type": "display_data"
    },
    {
     "data": {
      "text/html": [
       "<pre style=\"white-space:pre;overflow-x:auto;line-height:normal;font-family:Menlo,'DejaVu Sans Mono',consolas,'Courier New',monospace\"><span style=\"font-weight: bold\"> Total params: </span><span style=\"color: #00af00; text-decoration-color: #00af00\">592,346</span> (2.26 MB)\n",
       "</pre>\n"
      ],
      "text/plain": [
       "\u001b[1m Total params: \u001b[0m\u001b[38;5;34m592,346\u001b[0m (2.26 MB)\n"
      ]
     },
     "metadata": {},
     "output_type": "display_data"
    },
    {
     "data": {
      "text/html": [
       "<pre style=\"white-space:pre;overflow-x:auto;line-height:normal;font-family:Menlo,'DejaVu Sans Mono',consolas,'Courier New',monospace\"><span style=\"font-weight: bold\"> Trainable params: </span><span style=\"color: #00af00; text-decoration-color: #00af00\">592,346</span> (2.26 MB)\n",
       "</pre>\n"
      ],
      "text/plain": [
       "\u001b[1m Trainable params: \u001b[0m\u001b[38;5;34m592,346\u001b[0m (2.26 MB)\n"
      ]
     },
     "metadata": {},
     "output_type": "display_data"
    },
    {
     "data": {
      "text/html": [
       "<pre style=\"white-space:pre;overflow-x:auto;line-height:normal;font-family:Menlo,'DejaVu Sans Mono',consolas,'Courier New',monospace\"><span style=\"font-weight: bold\"> Non-trainable params: </span><span style=\"color: #00af00; text-decoration-color: #00af00\">0</span> (0.00 B)\n",
       "</pre>\n"
      ],
      "text/plain": [
       "\u001b[1m Non-trainable params: \u001b[0m\u001b[38;5;34m0\u001b[0m (0.00 B)\n"
      ]
     },
     "metadata": {},
     "output_type": "display_data"
    }
   ],
   "source": [
    "model.summary(show_trainable = True)"
   ]
  },
  {
   "cell_type": "code",
   "execution_count": 19,
   "id": "24fd762d-b43e-4fcb-b692-1ab94dd0dc4b",
   "metadata": {},
   "outputs": [
    {
     "name": "stdout",
     "output_type": "stream",
     "text": [
      "Epoch 1/100\n",
      "1500/1500 - 9s - 6ms/step - accuracy: 0.9986 - loss: 0.0042 - val_accuracy: 0.9822 - val_loss: 0.1466\n",
      "Epoch 2/100\n",
      "1500/1500 - 9s - 6ms/step - accuracy: 0.9993 - loss: 0.0027 - val_accuracy: 0.9840 - val_loss: 0.1228\n",
      "Epoch 3/100\n",
      "1500/1500 - 9s - 6ms/step - accuracy: 0.9993 - loss: 0.0023 - val_accuracy: 0.9855 - val_loss: 0.1087\n",
      "Epoch 4/100\n",
      "1500/1500 - 9s - 6ms/step - accuracy: 0.9994 - loss: 0.0022 - val_accuracy: 0.9848 - val_loss: 0.1185\n",
      "Epoch 5/100\n",
      "1500/1500 - 9s - 6ms/step - accuracy: 0.9990 - loss: 0.0034 - val_accuracy: 0.9840 - val_loss: 0.1221\n",
      "Epoch 6/100\n",
      "1500/1500 - 8s - 6ms/step - accuracy: 0.9989 - loss: 0.0037 - val_accuracy: 0.9847 - val_loss: 0.1193\n",
      "Epoch 7/100\n",
      "1500/1500 - 8s - 6ms/step - accuracy: 0.9991 - loss: 0.0034 - val_accuracy: 0.9858 - val_loss: 0.1144\n",
      "Epoch 8/100\n",
      "1500/1500 - 9s - 6ms/step - accuracy: 0.9994 - loss: 0.0017 - val_accuracy: 0.9852 - val_loss: 0.1321\n",
      "Epoch 9/100\n",
      "1500/1500 - 9s - 6ms/step - accuracy: 0.9989 - loss: 0.0037 - val_accuracy: 0.9853 - val_loss: 0.1201\n",
      "Epoch 10/100\n",
      "1500/1500 - 9s - 6ms/step - accuracy: 0.9995 - loss: 0.0014 - val_accuracy: 0.9852 - val_loss: 0.1361\n",
      "Epoch 11/100\n",
      "1500/1500 - 10s - 7ms/step - accuracy: 0.9994 - loss: 0.0018 - val_accuracy: 0.9856 - val_loss: 0.1217\n",
      "Epoch 12/100\n",
      "1500/1500 - 10s - 7ms/step - accuracy: 0.9987 - loss: 0.0047 - val_accuracy: 0.9858 - val_loss: 0.1293\n",
      "Epoch 13/100\n",
      "1500/1500 - 11s - 7ms/step - accuracy: 0.9992 - loss: 0.0023 - val_accuracy: 0.9868 - val_loss: 0.1446\n",
      "Epoch 14/100\n",
      "1500/1500 - 11s - 7ms/step - accuracy: 0.9991 - loss: 0.0033 - val_accuracy: 0.9837 - val_loss: 0.1336\n",
      "Epoch 15/100\n",
      "1500/1500 - 11s - 7ms/step - accuracy: 0.9994 - loss: 0.0019 - val_accuracy: 0.9867 - val_loss: 0.1258\n",
      "Epoch 16/100\n",
      "1500/1500 - 11s - 7ms/step - accuracy: 0.9993 - loss: 0.0022 - val_accuracy: 0.9861 - val_loss: 0.1328\n",
      "Epoch 17/100\n",
      "1500/1500 - 10s - 7ms/step - accuracy: 0.9994 - loss: 0.0025 - val_accuracy: 0.9845 - val_loss: 0.1353\n",
      "Epoch 18/100\n",
      "1500/1500 - 11s - 7ms/step - accuracy: 0.9995 - loss: 0.0014 - val_accuracy: 0.9866 - val_loss: 0.1471\n",
      "Epoch 19/100\n",
      "1500/1500 - 12s - 8ms/step - accuracy: 0.9995 - loss: 0.0027 - val_accuracy: 0.9865 - val_loss: 0.1292\n",
      "Epoch 20/100\n",
      "1500/1500 - 12s - 8ms/step - accuracy: 0.9996 - loss: 0.0011 - val_accuracy: 0.9871 - val_loss: 0.1419\n",
      "Epoch 21/100\n",
      "1500/1500 - 12s - 8ms/step - accuracy: 0.9992 - loss: 0.0031 - val_accuracy: 0.9863 - val_loss: 0.1441\n",
      "Epoch 22/100\n",
      "1500/1500 - 11s - 7ms/step - accuracy: 0.9996 - loss: 0.0011 - val_accuracy: 0.9857 - val_loss: 0.1466\n",
      "Epoch 23/100\n",
      "1500/1500 - 11s - 8ms/step - accuracy: 0.9995 - loss: 0.0023 - val_accuracy: 0.9848 - val_loss: 0.1555\n",
      "Epoch 24/100\n",
      "1500/1500 - 11s - 8ms/step - accuracy: 0.9995 - loss: 0.0028 - val_accuracy: 0.9856 - val_loss: 0.1483\n",
      "Epoch 25/100\n",
      "1500/1500 - 11s - 7ms/step - accuracy: 0.9998 - loss: 8.9507e-04 - val_accuracy: 0.9806 - val_loss: 0.2604\n",
      "Epoch 26/100\n",
      "1500/1500 - 11s - 7ms/step - accuracy: 0.9990 - loss: 0.0042 - val_accuracy: 0.9855 - val_loss: 0.1443\n",
      "Epoch 27/100\n",
      "1500/1500 - 11s - 7ms/step - accuracy: 0.9996 - loss: 0.0013 - val_accuracy: 0.9860 - val_loss: 0.1586\n",
      "Epoch 28/100\n",
      "1500/1500 - 10s - 7ms/step - accuracy: 0.9992 - loss: 0.0033 - val_accuracy: 0.9852 - val_loss: 0.1547\n",
      "Epoch 29/100\n",
      "1500/1500 - 11s - 8ms/step - accuracy: 0.9996 - loss: 0.0018 - val_accuracy: 0.9862 - val_loss: 0.1351\n",
      "Epoch 30/100\n",
      "1500/1500 - 9s - 6ms/step - accuracy: 0.9999 - loss: 2.5197e-04 - val_accuracy: 0.9835 - val_loss: 0.1983\n",
      "Epoch 31/100\n",
      "1500/1500 - 12s - 8ms/step - accuracy: 0.9992 - loss: 0.0040 - val_accuracy: 0.9844 - val_loss: 0.1807\n",
      "Epoch 32/100\n",
      "1500/1500 - 11s - 7ms/step - accuracy: 0.9996 - loss: 0.0013 - val_accuracy: 0.9840 - val_loss: 0.1970\n",
      "Epoch 33/100\n",
      "1500/1500 - 11s - 7ms/step - accuracy: 0.9996 - loss: 0.0014 - val_accuracy: 0.9822 - val_loss: 0.2181\n",
      "Epoch 34/100\n",
      "1500/1500 - 13s - 9ms/step - accuracy: 0.9994 - loss: 0.0024 - val_accuracy: 0.9850 - val_loss: 0.1702\n",
      "Epoch 35/100\n",
      "1500/1500 - 10s - 7ms/step - accuracy: 0.9995 - loss: 0.0024 - val_accuracy: 0.9839 - val_loss: 0.1670\n",
      "Epoch 36/100\n",
      "1500/1500 - 10s - 7ms/step - accuracy: 0.9998 - loss: 6.8035e-04 - val_accuracy: 0.9842 - val_loss: 0.1816\n",
      "Epoch 37/100\n",
      "1500/1500 - 11s - 7ms/step - accuracy: 0.9991 - loss: 0.0042 - val_accuracy: 0.9847 - val_loss: 0.1887\n",
      "Epoch 38/100\n",
      "1500/1500 - 11s - 7ms/step - accuracy: 0.9998 - loss: 8.4706e-04 - val_accuracy: 0.9860 - val_loss: 0.1684\n",
      "Epoch 39/100\n",
      "1500/1500 - 12s - 8ms/step - accuracy: 0.9990 - loss: 0.0046 - val_accuracy: 0.9827 - val_loss: 0.1984\n",
      "Epoch 40/100\n",
      "1500/1500 - 13s - 9ms/step - accuracy: 0.9997 - loss: 0.0014 - val_accuracy: 0.9855 - val_loss: 0.1594\n",
      "Epoch 41/100\n",
      "1500/1500 - 11s - 7ms/step - accuracy: 1.0000 - loss: 2.8440e-05 - val_accuracy: 0.9847 - val_loss: 0.1665\n",
      "Epoch 42/100\n",
      "1500/1500 - 9s - 6ms/step - accuracy: 1.0000 - loss: 2.4075e-05 - val_accuracy: 0.9858 - val_loss: 0.1645\n",
      "Epoch 43/100\n",
      "1500/1500 - 9s - 6ms/step - accuracy: 1.0000 - loss: 1.3109e-06 - val_accuracy: 0.9861 - val_loss: 0.1653\n",
      "Epoch 44/100\n",
      "1500/1500 - 8s - 6ms/step - accuracy: 1.0000 - loss: 2.4282e-07 - val_accuracy: 0.9860 - val_loss: 0.1659\n",
      "Epoch 45/100\n",
      "1500/1500 - 8s - 5ms/step - accuracy: 1.0000 - loss: 1.5141e-07 - val_accuracy: 0.9862 - val_loss: 0.1668\n",
      "Epoch 46/100\n",
      "1500/1500 - 9s - 6ms/step - accuracy: 1.0000 - loss: 9.2479e-08 - val_accuracy: 0.9863 - val_loss: 0.1682\n",
      "Epoch 47/100\n",
      "1500/1500 - 9s - 6ms/step - accuracy: 1.0000 - loss: 5.5178e-08 - val_accuracy: 0.9864 - val_loss: 0.1703\n",
      "Epoch 48/100\n",
      "1500/1500 - 9s - 6ms/step - accuracy: 1.0000 - loss: 3.1084e-08 - val_accuracy: 0.9866 - val_loss: 0.1725\n",
      "Epoch 49/100\n",
      "1500/1500 - 9s - 6ms/step - accuracy: 1.0000 - loss: 1.7804e-08 - val_accuracy: 0.9864 - val_loss: 0.1754\n",
      "Epoch 50/100\n",
      "1500/1500 - 9s - 6ms/step - accuracy: 1.0000 - loss: 9.9490e-09 - val_accuracy: 0.9867 - val_loss: 0.1793\n",
      "Epoch 51/100\n",
      "1500/1500 - 9s - 6ms/step - accuracy: 1.0000 - loss: 5.3495e-09 - val_accuracy: 0.9868 - val_loss: 0.1828\n",
      "Epoch 52/100\n",
      "1500/1500 - 10s - 6ms/step - accuracy: 1.0000 - loss: 2.8685e-09 - val_accuracy: 0.9868 - val_loss: 0.1869\n",
      "Epoch 53/100\n",
      "1500/1500 - 9s - 6ms/step - accuracy: 1.0000 - loss: 1.5621e-09 - val_accuracy: 0.9868 - val_loss: 0.1915\n",
      "Epoch 54/100\n",
      "1500/1500 - 9s - 6ms/step - accuracy: 1.0000 - loss: 8.3943e-10 - val_accuracy: 0.9868 - val_loss: 0.1963\n",
      "Epoch 55/100\n",
      "1500/1500 - 8s - 6ms/step - accuracy: 1.0000 - loss: 4.8429e-10 - val_accuracy: 0.9872 - val_loss: 0.1987\n",
      "Epoch 56/100\n",
      "1500/1500 - 8s - 6ms/step - accuracy: 1.0000 - loss: 2.8561e-10 - val_accuracy: 0.9872 - val_loss: 0.2009\n",
      "Epoch 57/100\n",
      "1500/1500 - 8s - 6ms/step - accuracy: 1.0000 - loss: 1.9620e-10 - val_accuracy: 0.9870 - val_loss: 0.2015\n",
      "Epoch 58/100\n",
      "1500/1500 - 8s - 5ms/step - accuracy: 1.0000 - loss: 1.7385e-10 - val_accuracy: 0.9872 - val_loss: 0.2036\n",
      "Epoch 59/100\n",
      "1500/1500 - 8s - 5ms/step - accuracy: 1.0000 - loss: 1.2169e-10 - val_accuracy: 0.9872 - val_loss: 0.2025\n",
      "Epoch 60/100\n",
      "1500/1500 - 8s - 6ms/step - accuracy: 1.0000 - loss: 1.1673e-10 - val_accuracy: 0.9872 - val_loss: 0.2022\n",
      "Epoch 61/100\n",
      "1500/1500 - 9s - 6ms/step - accuracy: 1.0000 - loss: 1.1176e-10 - val_accuracy: 0.9872 - val_loss: 0.2027\n",
      "Epoch 62/100\n",
      "1500/1500 - 8s - 6ms/step - accuracy: 1.0000 - loss: 9.4374e-11 - val_accuracy: 0.9872 - val_loss: 0.2016\n",
      "Epoch 63/100\n",
      "1500/1500 - 9s - 6ms/step - accuracy: 1.0000 - loss: 9.1890e-11 - val_accuracy: 0.9872 - val_loss: 0.2021\n",
      "Epoch 64/100\n",
      "1500/1500 - 9s - 6ms/step - accuracy: 1.0000 - loss: 9.6858e-11 - val_accuracy: 0.9872 - val_loss: 0.2010\n",
      "Epoch 65/100\n",
      "1500/1500 - 8s - 6ms/step - accuracy: 1.0000 - loss: 1.0431e-10 - val_accuracy: 0.9872 - val_loss: 0.2021\n",
      "Epoch 66/100\n",
      "1500/1500 - 8s - 6ms/step - accuracy: 1.0000 - loss: 7.9473e-11 - val_accuracy: 0.9870 - val_loss: 0.2005\n",
      "Epoch 67/100\n",
      "1500/1500 - 9s - 6ms/step - accuracy: 1.0000 - loss: 8.4440e-11 - val_accuracy: 0.9872 - val_loss: 0.2004\n",
      "Epoch 68/100\n",
      "1500/1500 - 8s - 6ms/step - accuracy: 1.0000 - loss: 7.6989e-11 - val_accuracy: 0.9872 - val_loss: 0.2013\n",
      "Epoch 69/100\n",
      "1500/1500 - 8s - 6ms/step - accuracy: 1.0000 - loss: 5.9605e-11 - val_accuracy: 0.9870 - val_loss: 0.1993\n",
      "Epoch 70/100\n",
      "1500/1500 - 9s - 6ms/step - accuracy: 1.0000 - loss: 8.1956e-11 - val_accuracy: 0.9872 - val_loss: 0.2001\n",
      "Epoch 71/100\n",
      "1500/1500 - 9s - 6ms/step - accuracy: 1.0000 - loss: 6.2088e-11 - val_accuracy: 0.9872 - val_loss: 0.1986\n",
      "Epoch 72/100\n",
      "1500/1500 - 9s - 6ms/step - accuracy: 1.0000 - loss: 7.2022e-11 - val_accuracy: 0.9869 - val_loss: 0.1996\n",
      "Epoch 73/100\n",
      "1500/1500 - 9s - 6ms/step - accuracy: 1.0000 - loss: 5.7121e-11 - val_accuracy: 0.9869 - val_loss: 0.1987\n",
      "Epoch 74/100\n",
      "1500/1500 - 9s - 6ms/step - accuracy: 1.0000 - loss: 5.7121e-11 - val_accuracy: 0.9871 - val_loss: 0.1999\n",
      "Epoch 75/100\n",
      "1500/1500 - 9s - 6ms/step - accuracy: 1.0000 - loss: 5.2154e-11 - val_accuracy: 0.9871 - val_loss: 0.1996\n",
      "Epoch 76/100\n",
      "1500/1500 - 9s - 6ms/step - accuracy: 1.0000 - loss: 6.9539e-11 - val_accuracy: 0.9868 - val_loss: 0.2021\n",
      "Epoch 77/100\n",
      "1500/1500 - 10s - 7ms/step - accuracy: 1.0000 - loss: 2.9802e-11 - val_accuracy: 0.9869 - val_loss: 0.2003\n",
      "Epoch 78/100\n",
      "1500/1500 - 10s - 7ms/step - accuracy: 1.0000 - loss: 3.7253e-11 - val_accuracy: 0.9868 - val_loss: 0.1995\n",
      "Epoch 79/100\n",
      "1500/1500 - 9s - 6ms/step - accuracy: 1.0000 - loss: 4.2220e-11 - val_accuracy: 0.9869 - val_loss: 0.2007\n",
      "Epoch 80/100\n",
      "1500/1500 - 9s - 6ms/step - accuracy: 1.0000 - loss: 3.9736e-11 - val_accuracy: 0.9868 - val_loss: 0.2010\n",
      "Epoch 81/100\n",
      "1500/1500 - 10s - 6ms/step - accuracy: 1.0000 - loss: 2.9802e-11 - val_accuracy: 0.9868 - val_loss: 0.2006\n",
      "Epoch 82/100\n",
      "1500/1500 - 9s - 6ms/step - accuracy: 1.0000 - loss: 2.4835e-11 - val_accuracy: 0.9870 - val_loss: 0.2019\n",
      "Epoch 83/100\n",
      "1500/1500 - 9s - 6ms/step - accuracy: 1.0000 - loss: 9.9341e-12 - val_accuracy: 0.9868 - val_loss: 0.2015\n",
      "Epoch 84/100\n",
      "1500/1500 - 9s - 6ms/step - accuracy: 1.0000 - loss: 1.7385e-11 - val_accuracy: 0.9868 - val_loss: 0.2027\n",
      "Epoch 85/100\n",
      "1500/1500 - 9s - 6ms/step - accuracy: 1.0000 - loss: 1.9868e-11 - val_accuracy: 0.9868 - val_loss: 0.2035\n",
      "Epoch 86/100\n",
      "1500/1500 - 9s - 6ms/step - accuracy: 1.0000 - loss: 1.2418e-11 - val_accuracy: 0.9871 - val_loss: 0.2043\n",
      "Epoch 87/100\n",
      "1500/1500 - 9s - 6ms/step - accuracy: 1.0000 - loss: 1.7385e-11 - val_accuracy: 0.9870 - val_loss: 0.2047\n",
      "Epoch 88/100\n",
      "1500/1500 - 8s - 6ms/step - accuracy: 1.0000 - loss: 9.9341e-12 - val_accuracy: 0.9869 - val_loss: 0.2056\n",
      "Epoch 89/100\n",
      "1500/1500 - 8s - 6ms/step - accuracy: 1.0000 - loss: 4.9671e-12 - val_accuracy: 0.9872 - val_loss: 0.2060\n",
      "Epoch 90/100\n",
      "1500/1500 - 8s - 5ms/step - accuracy: 1.0000 - loss: 4.9671e-12 - val_accuracy: 0.9870 - val_loss: 0.2076\n",
      "Epoch 91/100\n",
      "1500/1500 - 8s - 6ms/step - accuracy: 1.0000 - loss: 7.4506e-12 - val_accuracy: 0.9871 - val_loss: 0.2086\n",
      "Epoch 92/100\n",
      "1500/1500 - 8s - 5ms/step - accuracy: 1.0000 - loss: 0.0000e+00 - val_accuracy: 0.9871 - val_loss: 0.2095\n",
      "Epoch 93/100\n",
      "1500/1500 - 9s - 6ms/step - accuracy: 1.0000 - loss: 0.0000e+00 - val_accuracy: 0.9871 - val_loss: 0.2107\n",
      "Epoch 94/100\n",
      "1500/1500 - 8s - 5ms/step - accuracy: 1.0000 - loss: 2.4835e-12 - val_accuracy: 0.9869 - val_loss: 0.2113\n",
      "Epoch 95/100\n",
      "1500/1500 - 8s - 5ms/step - accuracy: 1.0000 - loss: 2.4835e-12 - val_accuracy: 0.9871 - val_loss: 0.2126\n",
      "Epoch 96/100\n",
      "1500/1500 - 8s - 6ms/step - accuracy: 1.0000 - loss: 2.4835e-12 - val_accuracy: 0.9870 - val_loss: 0.2137\n",
      "Epoch 97/100\n",
      "1500/1500 - 8s - 5ms/step - accuracy: 1.0000 - loss: 2.4835e-12 - val_accuracy: 0.9872 - val_loss: 0.2153\n",
      "Epoch 98/100\n",
      "1500/1500 - 8s - 5ms/step - accuracy: 1.0000 - loss: 0.0000e+00 - val_accuracy: 0.9870 - val_loss: 0.2162\n",
      "Epoch 99/100\n",
      "1500/1500 - 9s - 6ms/step - accuracy: 1.0000 - loss: 0.0000e+00 - val_accuracy: 0.9872 - val_loss: 0.2174\n",
      "Epoch 100/100\n",
      "1500/1500 - 8s - 6ms/step - accuracy: 1.0000 - loss: 0.0000e+00 - val_accuracy: 0.9872 - val_loss: 0.2186\n",
      "Test Accuracy: 0.9870\n"
     ]
    },
    {
     "data": {
      "image/png": "[encoded data removed]",
      "text/plain": [
       "<Figure size 640x480 with 1 Axes>"
      ]
     },
     "metadata": {},
     "output_type": "display_data"
    }
   ],
   "source": [
    "#-------Compile the model\n",
    "model.compile(\n",
    "    optimizer='adam',\n",
    "    loss='categorical_crossentropy',\n",
    "    metrics=['accuracy']\n",
    ")\n",
    "\n",
    "#-------Train the model\n",
    "history = model.fit(\n",
    "    x_train, y_train,\n",
    "    epochs=100,            \n",
    "    batch_size=32,\n",
    "    validation_split=0.2,\n",
    "    verbose=2\n",
    ")\n",
    "#-------Evaluate the model\n",
    "test_loss, test_acc = model.evaluate(x_test, y_test, verbose=0)\n",
    "print(f'Test Accuracy: {test_acc:.4f}')\n",
    "\n",
    "#-------Plot training and validation accuracy\n",
    "plt.plot(history.history['accuracy'], label='Train Accuracy')\n",
    "plt.plot(history.history['val_accuracy'], label='Validation Accuracy')\n",
    "plt.xlabel('Epochs')\n",
    "plt.ylabel('Accuracy')\n",
    "plt.legend()\n",
    "plt.show()"
   ]
  },
  {
   "cell_type": "code",
   "execution_count": null,
   "id": "166f9c71-5c5f-49d5-91c1-e994e493a34f",
   "metadata": {},
   "outputs": [],
   "source": []
  }
 ],
 "metadata": {
  "kernelspec": {
   "display_name": "Python 3 (ipykernel)",
   "language": "python",
   "name": "python3"
  },
  "language_info": {
   "codemirror_mode": {
    "name": "ipython",
    "version": 3
   },
   "file_extension": ".py",
   "mimetype": "text/x-python",
   "name": "python",
   "nbconvert_exporter": "python",
   "pygments_lexer": "ipython3",
   "version": "3.9.6"
  }
 },
 "nbformat": 4,
 "nbformat_minor": 5
}
