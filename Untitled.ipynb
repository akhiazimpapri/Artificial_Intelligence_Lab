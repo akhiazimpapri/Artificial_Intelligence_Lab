{
 "cells": [
  {
   "cell_type": "code",
   "execution_count": null,
   "id": "16aca6eb-7afa-40c3-8bd9-1e9732ff0acb",
   "metadata": {},
   "outputs": [],
   "source": []
  }
 ],
 "metadata": {
  "kernelspec": {
   "display_name": "",
   "name": ""
  },
  "language_info": {
   "name": ""
  }
 },
 "nbformat": 4,
 "nbformat_minor": 5
}
